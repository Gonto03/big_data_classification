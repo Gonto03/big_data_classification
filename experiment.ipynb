{
 "cells": [
  {
   "cell_type": "markdown",
   "metadata": {},
   "source": [
    "## Repeating the experiment"
   ]
  },
  {
   "cell_type": "code",
   "execution_count": 1,
   "metadata": {},
   "outputs": [],
   "source": [
    "import databricks.koalas as ks"
   ]
  },
  {
   "cell_type": "code",
   "execution_count": 2,
   "metadata": {},
   "outputs": [],
   "source": [
    "url = \"../yellow_tripdata_2011-01.parquet\"\n",
    "koalas_data = ks.read_parquet(url)"
   ]
  },
  {
   "cell_type": "code",
   "execution_count": 6,
   "metadata": {},
   "outputs": [
    {
     "name": "stdout",
     "output_type": "stream",
     "text": [
      "13464997\n",
      "\n",
      "    VendorID tpep_pickup_datetime tpep_dropoff_datetime  passenger_count  trip_distance  RatecodeID store_and_fwd_flag  PULocationID  DOLocationID  payment_type  fare_amount  extra  mta_tax  tip_amount  tolls_amount  improvement_surcharge  total_amount  congestion_surcharge  airport_fee\n",
      "0          2  2011-01-01 00:10:00   2011-01-01 00:12:00                4            0.0           1               None           145           145             1          2.9    0.5      0.5        0.28           0.0                    0.0          4.18                   NaN          NaN\n",
      "1          2  2011-01-01 00:04:00   2011-01-01 00:13:00                4            0.0           1               None           264           264             1          5.7    0.5      0.5        0.24           0.0                    0.0          6.94                   NaN          NaN\n",
      "2          2  2011-01-01 00:14:00   2011-01-01 00:16:00                4            0.0           1               None           264           264             1          2.9    0.5      0.5        1.11           0.0                    0.0          5.01                   NaN          NaN\n",
      "3          2  2011-01-01 00:04:00   2011-01-01 00:06:00                5            0.0           1               None           146           146             1          2.9    0.5      0.5        0.00           0.0                    0.0          3.90                   NaN          NaN\n",
      "4          2  2011-01-01 00:08:00   2011-01-01 00:08:00                5            0.0           1               None           146           146             1          2.5    0.5      0.5        0.11           0.0                    0.0          3.61                   NaN          NaN\n",
      "5          2  2011-01-01 00:23:00   2011-01-01 00:23:00                1            0.0           1               None           146           146             2          2.5    0.5      0.5        0.00           0.0                    0.0          3.50                   NaN          NaN\n",
      "6          2  2011-01-01 00:25:00   2011-01-01 00:25:00                1            0.0           1               None           146           146             2          2.5    0.5      0.5        0.00           0.0                    0.0          3.50                   NaN          NaN\n",
      "7          1  2011-01-01 00:58:10   2011-01-01 01:15:35                1            8.0           1                  N           138           256             2         20.1    0.5      0.5        0.00           0.0                    0.0         21.10                   NaN          NaN\n",
      "8          1  2011-01-01 00:23:27   2011-01-01 00:39:39                1            1.6           1                  N           170           237             2          9.3    0.5      0.5        0.00           0.0                    0.0         10.30                   NaN          NaN\n",
      "9          1  2011-01-01 00:42:08   2011-01-01 00:51:50                4            2.5           1                  N           237           170             2          8.1    0.5      0.5        0.00           0.0                    0.0          9.10                   NaN          NaN\n",
      "10         1  2011-01-01 00:53:36   2011-01-01 01:17:43                2            3.9           1                  N           170           239             1         14.9    0.5      0.5        2.38           0.0                    0.0         18.28                   NaN          NaN\n",
      "11         1  2011-01-01 00:37:47   2011-01-01 00:41:20                2            0.6           1                  N            90            90             2          4.1    0.5      0.5        0.00           0.0                    0.0          5.10                   NaN          NaN\n",
      "12         1  2011-01-01 00:42:49   2011-01-01 00:52:00                4            0.9           1                  N            90           186             2          6.5    0.5      0.5        0.00           0.0                    0.0          7.50                   NaN          NaN\n",
      "13         1  2011-01-01 00:56:28   2011-01-01 01:22:36                1            3.9           1                  Y            90           238             2         15.3    0.5      0.5        0.00           0.0                    0.0         16.30                   NaN          NaN\n",
      "14         1  2011-01-01 00:11:22   2011-01-01 00:14:36                2            0.7           1                  N           113            79             2          4.1    0.0      0.5        0.00           0.0                    0.0          4.60                   NaN          NaN\n",
      "15         1  2011-01-01 00:16:43   2011-01-01 00:24:39                2            1.9           1                  N            79           170             1          6.9    0.0      0.5        1.00           0.0                    0.0          8.40                   NaN          NaN\n",
      "16         1  2011-01-01 00:32:25   2011-01-01 00:48:46                2            3.3           1                  N           170           142             2         11.3    0.0      0.5        0.00           0.0                    0.0         11.80                   NaN          NaN\n",
      "17         1  2011-01-01 00:50:52   2011-01-01 01:25:47                2            5.3           1                  Y           142           112             2         20.1    0.0      0.5        0.00           4.8                    0.0         25.40                   NaN          NaN\n",
      "18         1  2011-01-01 00:20:22   2011-01-01 00:26:13                1            1.0           4                  N           114           249             2          5.3    0.5      0.5        0.00           0.0                    0.0          6.30                   NaN          NaN\n",
      "19         1  2011-01-01 00:28:45   2011-01-01 00:46:14                1            4.3           4                  N           249           143             2         13.7    0.5      0.5        0.00           0.0                    0.0         14.70                   NaN          NaN\n"
     ]
    }
   ],
   "source": [
    "print(len(koalas_data))\n",
    "print()\n",
    "print(koalas_data.head(20))"
   ]
  },
  {
   "cell_type": "code",
   "execution_count": 3,
   "metadata": {},
   "outputs": [
    {
     "data": {
      "text/plain": [
       "VendorID                          int64\n",
       "tpep_pickup_datetime     datetime64[ns]\n",
       "tpep_dropoff_datetime    datetime64[ns]\n",
       "passenger_count                   int64\n",
       "trip_distance                   float64\n",
       "RatecodeID                        int64\n",
       "store_and_fwd_flag               object\n",
       "PULocationID                      int64\n",
       "DOLocationID                      int64\n",
       "payment_type                      int64\n",
       "fare_amount                     float64\n",
       "extra                           float64\n",
       "mta_tax                         float64\n",
       "tip_amount                      float64\n",
       "tolls_amount                    float64\n",
       "improvement_surcharge           float64\n",
       "total_amount                    float64\n",
       "congestion_surcharge            float64\n",
       "airport_fee                     float64\n",
       "dtype: object"
      ]
     },
     "execution_count": 3,
     "metadata": {},
     "output_type": "execute_result"
    }
   ],
   "source": [
    "koalas_data.dtypes"
   ]
  },
  {
   "cell_type": "code",
   "execution_count": 4,
   "metadata": {},
   "outputs": [
    {
     "name": "stdout",
     "output_type": "stream",
     "text": [
      "In the benchmark, filtered data is 35.84216914418919% of total data\n"
     ]
    }
   ],
   "source": [
    "expr_filter = (koalas_data['tip_amount'] >= 1) & (koalas_data['tip_amount'] <= 5)\n",
    " \n",
    "print(f'In the benchmark, filtered data is {len(koalas_data[expr_filter]) / len(koalas_data) * 100}% of total data')"
   ]
  }
 ],
 "metadata": {
  "kernelspec": {
   "display_name": "base",
   "language": "python",
   "name": "python3"
  },
  "language_info": {
   "codemirror_mode": {
    "name": "ipython",
    "version": 3
   },
   "file_extension": ".py",
   "mimetype": "text/x-python",
   "name": "python",
   "nbconvert_exporter": "python",
   "pygments_lexer": "ipython3",
   "version": "3.11.5"
  }
 },
 "nbformat": 4,
 "nbformat_minor": 2
}
